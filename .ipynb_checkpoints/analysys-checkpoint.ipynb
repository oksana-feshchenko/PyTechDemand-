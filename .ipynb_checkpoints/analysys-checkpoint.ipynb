{
 "cells": [
  {
   "cell_type": "code",
   "execution_count": 1,
   "metadata": {},
   "outputs": [],
   "source": [
    "import numpy as np\n",
    "import pandas as pd\n",
    "import matplotlib.pyplot as plt\n",
    "import string"
   ]
  },
  {
   "cell_type": "code",
   "execution_count": 2,
   "metadata": {},
   "outputs": [],
   "source": [
    "import nltk\n",
    "from nltk.tokenize import word_tokenize\n",
    "from nltk.probability import FreqDist\n",
    "from nltk.corpus import stopwords"
   ]
  },
  {
   "cell_type": "code",
   "execution_count": 3,
   "metadata": {},
   "outputs": [
    {
     "name": "stderr",
     "output_type": "stream",
     "text": [
      "[nltk_data] Downloading package stopwords to\n",
      "[nltk_data]     C:\\Users\\foksa\\AppData\\Roaming\\nltk_data...\n",
      "[nltk_data]   Package stopwords is already up-to-date!\n"
     ]
    },
    {
     "data": {
      "text/plain": [
       "True"
      ]
     },
     "execution_count": 3,
     "metadata": {},
     "output_type": "execute_result"
    }
   ],
   "source": [
    "nltk.download('stopwords')\n"
   ]
  },
  {
   "cell_type": "code",
   "execution_count": 54,
   "metadata": {},
   "outputs": [],
   "source": [
    "df = pd.read_csv(\"description.csv\")"
   ]
  },
  {
   "cell_type": "code",
   "execution_count": 55,
   "metadata": {},
   "outputs": [
    {
     "data": {
      "text/html": [
       "<div>\n",
       "<style scoped>\n",
       "    .dataframe tbody tr th:only-of-type {\n",
       "        vertical-align: middle;\n",
       "    }\n",
       "\n",
       "    .dataframe tbody tr th {\n",
       "        vertical-align: top;\n",
       "    }\n",
       "\n",
       "    .dataframe thead th {\n",
       "        text-align: right;\n",
       "    }\n",
       "</style>\n",
       "<table border=\"1\" class=\"dataframe\">\n",
       "  <thead>\n",
       "    <tr style=\"text-align: right;\">\n",
       "      <th></th>\n",
       "      <th>title</th>\n",
       "      <th>description</th>\n",
       "    </tr>\n",
       "  </thead>\n",
       "  <tbody>\n",
       "    <tr>\n",
       "      <th>0</th>\n",
       "      <td>Python Back-end Developer (JobTestPrep)</td>\n",
       "      <td>On behalf of JobTestPrep, SD Solutions is look...</td>\n",
       "    </tr>\n",
       "    <tr>\n",
       "      <th>1</th>\n",
       "      <td>Python/Django Engineer</td>\n",
       "      <td>Hey guys 👋We’re Intobi - a software developmen...</td>\n",
       "    </tr>\n",
       "    <tr>\n",
       "      <th>2</th>\n",
       "      <td>Odoo Developer</td>\n",
       "      <td>We are actively looking for Odoo developer for...</td>\n",
       "    </tr>\n",
       "    <tr>\n",
       "      <th>3</th>\n",
       "      <td>Python Developer</td>\n",
       "      <td>At least 3+ years of experience with Python pr...</td>\n",
       "    </tr>\n",
       "    <tr>\n",
       "      <th>4</th>\n",
       "      <td>Team Lead Python Developer for Ciklum Client</td>\n",
       "      <td>We are looking for a Team Lead Python Develope...</td>\n",
       "    </tr>\n",
       "  </tbody>\n",
       "</table>\n",
       "</div>"
      ],
      "text/plain": [
       "                                          title   \n",
       "0       Python Back-end Developer (JobTestPrep)  \\\n",
       "1                        Python/Django Engineer   \n",
       "2                                Odoo Developer   \n",
       "3                              Python Developer   \n",
       "4  Team Lead Python Developer for Ciklum Client   \n",
       "\n",
       "                                         description  \n",
       "0  On behalf of JobTestPrep, SD Solutions is look...  \n",
       "1  Hey guys 👋We’re Intobi - a software developmen...  \n",
       "2  We are actively looking for Odoo developer for...  \n",
       "3  At least 3+ years of experience with Python pr...  \n",
       "4  We are looking for a Team Lead Python Develope...  "
      ]
     },
     "execution_count": 55,
     "metadata": {},
     "output_type": "execute_result"
    }
   ],
   "source": [
    "df.head()"
   ]
  },
  {
   "cell_type": "code",
   "execution_count": 56,
   "metadata": {},
   "outputs": [
    {
     "name": "stdout",
     "output_type": "stream",
     "text": [
      "<class 'pandas.core.frame.DataFrame'>\n",
      "RangeIndex: 294 entries, 0 to 293\n",
      "Data columns (total 2 columns):\n",
      " #   Column       Non-Null Count  Dtype \n",
      "---  ------       --------------  ----- \n",
      " 0   title        294 non-null    object\n",
      " 1   description  294 non-null    object\n",
      "dtypes: object(2)\n",
      "memory usage: 4.7+ KB\n"
     ]
    }
   ],
   "source": [
    "df.info()"
   ]
  },
  {
   "cell_type": "code",
   "execution_count": 57,
   "metadata": {},
   "outputs": [
    {
     "data": {
      "text/html": [
       "<div>\n",
       "<style scoped>\n",
       "    .dataframe tbody tr th:only-of-type {\n",
       "        vertical-align: middle;\n",
       "    }\n",
       "\n",
       "    .dataframe tbody tr th {\n",
       "        vertical-align: top;\n",
       "    }\n",
       "\n",
       "    .dataframe thead th {\n",
       "        text-align: right;\n",
       "    }\n",
       "</style>\n",
       "<table border=\"1\" class=\"dataframe\">\n",
       "  <thead>\n",
       "    <tr style=\"text-align: right;\">\n",
       "      <th></th>\n",
       "      <th>title</th>\n",
       "      <th>description</th>\n",
       "    </tr>\n",
       "  </thead>\n",
       "  <tbody>\n",
       "    <tr>\n",
       "      <th>count</th>\n",
       "      <td>294</td>\n",
       "      <td>294</td>\n",
       "    </tr>\n",
       "    <tr>\n",
       "      <th>unique</th>\n",
       "      <td>205</td>\n",
       "      <td>282</td>\n",
       "    </tr>\n",
       "    <tr>\n",
       "      <th>top</th>\n",
       "      <td>Senior Python Developer</td>\n",
       "      <td>We are Data Science UA and we are a fast growi...</td>\n",
       "    </tr>\n",
       "    <tr>\n",
       "      <th>freq</th>\n",
       "      <td>24</td>\n",
       "      <td>3</td>\n",
       "    </tr>\n",
       "  </tbody>\n",
       "</table>\n",
       "</div>"
      ],
      "text/plain": [
       "                          title   \n",
       "count                       294  \\\n",
       "unique                      205   \n",
       "top     Senior Python Developer   \n",
       "freq                         24   \n",
       "\n",
       "                                              description  \n",
       "count                                                 294  \n",
       "unique                                                282  \n",
       "top     We are Data Science UA and we are a fast growi...  \n",
       "freq                                                    3  "
      ]
     },
     "execution_count": 57,
     "metadata": {},
     "output_type": "execute_result"
    }
   ],
   "source": [
    "df.describe()"
   ]
  },
  {
   "cell_type": "code",
   "execution_count": 58,
   "metadata": {},
   "outputs": [],
   "source": [
    " \"\"\"\n",
    " Considering the text could be english or ukrainian, we modify  english stopwords by adding ukrainian words.\n",
    "\"\"\"\n",
    "with open('stopwords_ua.txt', 'r', encoding='utf-8') as file:\n",
    "      ukrainian_stop_words = [line.strip() for line in file.readlines()]\n",
    "\"\"\"\n",
    "After analysing text with nltk i created file with additional stopwords.\n",
    "\"\"\"\n",
    "with open('my_custom_stopwords.txt', 'r', encoding='utf-8') as file:\n",
    "    custom_stop_words = [line.strip() for line in file.readlines()]        \n",
    "\n",
    "modified_stop_words = nltk.corpus.stopwords.words('english')\n",
    "\n",
    "modified_stop_words.extend(ukrainian_stop_words) \n",
    "modified_stop_words.extend(custom_stop_words) "
   ]
  },
  {
   "cell_type": "code",
   "execution_count": 59,
   "metadata": {},
   "outputs": [],
   "source": [
    "def text_process(mess):\n",
    "    \"\"\"\n",
    "    Takes in a string of text, then performs the following:\n",
    "    1. Remove all punctuation\n",
    "    2. Remove all stopwords\n",
    "    3. Returns a list of the cleaned text\n",
    "    \"\"\"\n",
    "    # Check characters to see if they are in punctuation, returns list of char\n",
    "    unwanted_chars = string.punctuation + '’—–1234567890'\n",
    "    nopunc = [char for char in mess if char not in unwanted_chars]\n",
    "\n",
    "    # Join the characters again to form the string.\n",
    "    nopunc = ''.join(nopunc)\n",
    "    \n",
    "    # Now just remove any stopwords\n",
    "    return \" \".join([word for word in nopunc.split() if word.lower() not in modified_stop_words])"
   ]
  },
  {
   "cell_type": "code",
   "execution_count": 60,
   "metadata": {},
   "outputs": [],
   "source": [
    "df[\"text_without_stopwords\"]= df[\"description\"].apply(text_process)"
   ]
  },
  {
   "cell_type": "code",
   "execution_count": 61,
   "metadata": {},
   "outputs": [
    {
     "data": {
      "text/html": [
       "<div>\n",
       "<style scoped>\n",
       "    .dataframe tbody tr th:only-of-type {\n",
       "        vertical-align: middle;\n",
       "    }\n",
       "\n",
       "    .dataframe tbody tr th {\n",
       "        vertical-align: top;\n",
       "    }\n",
       "\n",
       "    .dataframe thead th {\n",
       "        text-align: right;\n",
       "    }\n",
       "</style>\n",
       "<table border=\"1\" class=\"dataframe\">\n",
       "  <thead>\n",
       "    <tr style=\"text-align: right;\">\n",
       "      <th></th>\n",
       "      <th>title</th>\n",
       "      <th>description</th>\n",
       "      <th>text_without_stopwords</th>\n",
       "    </tr>\n",
       "  </thead>\n",
       "  <tbody>\n",
       "    <tr>\n",
       "      <th>0</th>\n",
       "      <td>Python Back-end Developer (JobTestPrep)</td>\n",
       "      <td>On behalf of JobTestPrep, SD Solutions is look...</td>\n",
       "      <td>behalf JobTestPrep SD Python departmentRespons...</td>\n",
       "    </tr>\n",
       "    <tr>\n",
       "      <th>1</th>\n",
       "      <td>Python/Django Engineer</td>\n",
       "      <td>Hey guys 👋We’re Intobi - a software developmen...</td>\n",
       "      <td>Hey guys 👋Were Intobi located Kyiv 🇺🇦Our speci...</td>\n",
       "    </tr>\n",
       "    <tr>\n",
       "      <th>2</th>\n",
       "      <td>Odoo Developer</td>\n",
       "      <td>We are actively looking for Odoo developer for...</td>\n",
       "      <td>actively Odoo official Odoo distribution Germa...</td>\n",
       "    </tr>\n",
       "    <tr>\n",
       "      <th>3</th>\n",
       "      <td>Python Developer</td>\n",
       "      <td>At least 3+ years of experience with Python pr...</td>\n",
       "      <td>Python objectoriented OOP∙ containerization Ku...</td>\n",
       "    </tr>\n",
       "    <tr>\n",
       "      <th>4</th>\n",
       "      <td>Team Lead Python Developer for Ciklum Client</td>\n",
       "      <td>We are looking for a Team Lead Python Develope...</td>\n",
       "      <td>Python VastData focuses specifically flash mem...</td>\n",
       "    </tr>\n",
       "  </tbody>\n",
       "</table>\n",
       "</div>"
      ],
      "text/plain": [
       "                                          title   \n",
       "0       Python Back-end Developer (JobTestPrep)  \\\n",
       "1                        Python/Django Engineer   \n",
       "2                                Odoo Developer   \n",
       "3                              Python Developer   \n",
       "4  Team Lead Python Developer for Ciklum Client   \n",
       "\n",
       "                                         description   \n",
       "0  On behalf of JobTestPrep, SD Solutions is look...  \\\n",
       "1  Hey guys 👋We’re Intobi - a software developmen...   \n",
       "2  We are actively looking for Odoo developer for...   \n",
       "3  At least 3+ years of experience with Python pr...   \n",
       "4  We are looking for a Team Lead Python Develope...   \n",
       "\n",
       "                              text_without_stopwords  \n",
       "0  behalf JobTestPrep SD Python departmentRespons...  \n",
       "1  Hey guys 👋Were Intobi located Kyiv 🇺🇦Our speci...  \n",
       "2  actively Odoo official Odoo distribution Germa...  \n",
       "3  Python objectoriented OOP∙ containerization Ku...  \n",
       "4  Python VastData focuses specifically flash mem...  "
      ]
     },
     "execution_count": 61,
     "metadata": {},
     "output_type": "execute_result"
    }
   ],
   "source": [
    "df.head(5)"
   ]
  },
  {
   "cell_type": "code",
   "execution_count": 62,
   "metadata": {},
   "outputs": [],
   "source": [
    " # Create joined string of all processed text \n",
    "all_text = \"\".join(df[\"text_without_stopwords\"])\n"
   ]
  },
  {
   "cell_type": "code",
   "execution_count": 63,
   "metadata": {},
   "outputs": [],
   "source": [
    "allWords = nltk.tokenize.word_tokenize(all_text)"
   ]
  },
  {
   "cell_type": "code",
   "execution_count": 64,
   "metadata": {},
   "outputs": [],
   "source": [
    "allWordDist = nltk.FreqDist(w.lower() for w in allWords)\n"
   ]
  },
  {
   "cell_type": "code",
   "execution_count": 70,
   "metadata": {},
   "outputs": [],
   "source": [
    "mostCommon= allWordDist.most_common(20)"
   ]
  },
  {
   "cell_type": "code",
   "execution_count": 71,
   "metadata": {},
   "outputs": [
    {
     "data": {
      "text/plain": [
       "[('python', 503),\n",
       " ('django', 122),\n",
       " ('aws', 114),\n",
       " ('api', 108),\n",
       " ('sql', 99),\n",
       " ('rest', 84),\n",
       " ('docker', 79),\n",
       " ('postgresql', 79),\n",
       " ('frontend', 74),\n",
       " ('agile', 57),\n",
       " ('cicd', 52),\n",
       " ('react', 52),\n",
       " ('linux', 52),\n",
       " ('ai', 52),\n",
       " ('git', 48),\n",
       " ('microservices', 48),\n",
       " ('pipelines', 48),\n",
       " ('nosql', 44),\n",
       " ('flask', 43),\n",
       " ('kubernetes', 42)]"
      ]
     },
     "execution_count": 71,
     "metadata": {},
     "output_type": "execute_result"
    }
   ],
   "source": [
    "mostCommon"
   ]
  },
  {
   "cell_type": "code",
   "execution_count": 72,
   "metadata": {},
   "outputs": [],
   "source": [
    "tech = pd.DataFrame(mostCommon, columns=['Technology', 'Frequency'])"
   ]
  },
  {
   "cell_type": "code",
   "execution_count": 73,
   "metadata": {},
   "outputs": [
    {
     "data": {
      "text/html": [
       "<div>\n",
       "<style scoped>\n",
       "    .dataframe tbody tr th:only-of-type {\n",
       "        vertical-align: middle;\n",
       "    }\n",
       "\n",
       "    .dataframe tbody tr th {\n",
       "        vertical-align: top;\n",
       "    }\n",
       "\n",
       "    .dataframe thead th {\n",
       "        text-align: right;\n",
       "    }\n",
       "</style>\n",
       "<table border=\"1\" class=\"dataframe\">\n",
       "  <thead>\n",
       "    <tr style=\"text-align: right;\">\n",
       "      <th></th>\n",
       "      <th>Technology</th>\n",
       "      <th>Frequency</th>\n",
       "    </tr>\n",
       "  </thead>\n",
       "  <tbody>\n",
       "    <tr>\n",
       "      <th>0</th>\n",
       "      <td>python</td>\n",
       "      <td>503</td>\n",
       "    </tr>\n",
       "    <tr>\n",
       "      <th>1</th>\n",
       "      <td>django</td>\n",
       "      <td>122</td>\n",
       "    </tr>\n",
       "    <tr>\n",
       "      <th>2</th>\n",
       "      <td>aws</td>\n",
       "      <td>114</td>\n",
       "    </tr>\n",
       "    <tr>\n",
       "      <th>3</th>\n",
       "      <td>api</td>\n",
       "      <td>108</td>\n",
       "    </tr>\n",
       "    <tr>\n",
       "      <th>4</th>\n",
       "      <td>sql</td>\n",
       "      <td>99</td>\n",
       "    </tr>\n",
       "  </tbody>\n",
       "</table>\n",
       "</div>"
      ],
      "text/plain": [
       "  Technology  Frequency\n",
       "0     python        503\n",
       "1     django        122\n",
       "2        aws        114\n",
       "3        api        108\n",
       "4        sql         99"
      ]
     },
     "execution_count": 73,
     "metadata": {},
     "output_type": "execute_result"
    }
   ],
   "source": [
    "tech.head()"
   ]
  },
  {
   "cell_type": "code",
   "execution_count": 74,
   "metadata": {},
   "outputs": [
    {
     "data": {
      "image/png": "[encoded data removed]",
      "text/plain": [
       "<Figure size 640x480 with 1 Axes>"
      ]
     },
     "metadata": {},
     "output_type": "display_data"
    }
   ],
   "source": [
    "\n",
    "tech.plot(kind=\"bar\", x = \"Technology\", y=\"Frequency\")\n",
    "\n",
    "# Set axis labels and title\n",
    "plt.xlabel('X Axis Label')\n",
    "plt.ylabel('Y Axis Label')\n",
    "plt.title('Bar Plot Title')\n",
    "\n",
    "# Display plot\n",
    "plt.show()"
   ]
  },
  {
   "cell_type": "code",
   "execution_count": null,
   "metadata": {},
   "outputs": [],
   "source": []
  },
  {
   "cell_type": "code",
   "execution_count": null,
   "metadata": {},
   "outputs": [],
   "source": []
  },
  {
   "cell_type": "code",
   "execution_count": null,
   "metadata": {},
   "outputs": [],
   "source": []
  }
 ],
 "metadata": {
  "kernelspec": {
   "display_name": "Python 3 (ipykernel)",
   "language": "python",
   "name": "python3"
  },
  "language_info": {
   "codemirror_mode": {
    "name": "ipython",
    "version": 3
   },
   "file_extension": ".py",
   "mimetype": "text/x-python",
   "name": "python",
   "nbconvert_exporter": "python",
   "pygments_lexer": "ipython3",
   "version": "3.11.0"
  }
 },
 "nbformat": 4,
 "nbformat_minor": 1
}
